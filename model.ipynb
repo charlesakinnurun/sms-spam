{
 "cells": [
  {
   "cell_type": "markdown",
   "id": "9496535e",
   "metadata": {},
   "source": [
    "Import the neccessary libraries"
   ]
  },
  {
   "cell_type": "code",
   "execution_count": 60,
   "id": "fc4ac78a",
   "metadata": {},
   "outputs": [],
   "source": [
    "import pandas as pd\n",
    "import numpy as np\n",
    "import matplotlib.pyplot as plt\n",
    "import seaborn as sns\n",
    "from sklearn.model_selection import train_test_split\n",
    "from sklearn.feature_extraction.text import TfidfVectorizer\n",
    "from sklearn.preprocessing import LabelEncoder\n",
    "from sklearn.metrics import accuracy_score,classification_report\n",
    "from sklearn.naive_bayes import MultinomialNB\n",
    "from sklearn.linear_model import LogisticRegression\n",
    "from sklearn.svm import SVC\n",
    "from sklearn.ensemble import RandomForestClassifier"
   ]
  },
  {
   "cell_type": "markdown",
   "id": "e63e81e8",
   "metadata": {},
   "source": [
    "Data Loading"
   ]
  },
  {
   "cell_type": "code",
   "execution_count": 61,
   "id": "7ba5f5d3",
   "metadata": {},
   "outputs": [
    {
     "name": "stdout",
     "output_type": "stream",
     "text": [
      "Data loaded successfully!\n"
     ]
    },
    {
     "data": {
      "text/html": [
       "<div>\n",
       "<style scoped>\n",
       "    .dataframe tbody tr th:only-of-type {\n",
       "        vertical-align: middle;\n",
       "    }\n",
       "\n",
       "    .dataframe tbody tr th {\n",
       "        vertical-align: top;\n",
       "    }\n",
       "\n",
       "    .dataframe thead th {\n",
       "        text-align: right;\n",
       "    }\n",
       "</style>\n",
       "<table border=\"1\" class=\"dataframe\">\n",
       "  <thead>\n",
       "    <tr style=\"text-align: right;\">\n",
       "      <th></th>\n",
       "      <th>v1</th>\n",
       "      <th>v2</th>\n",
       "      <th>Unnamed: 2</th>\n",
       "      <th>Unnamed: 3</th>\n",
       "      <th>Unnamed: 4</th>\n",
       "    </tr>\n",
       "  </thead>\n",
       "  <tbody>\n",
       "    <tr>\n",
       "      <th>0</th>\n",
       "      <td>ham</td>\n",
       "      <td>Go until jurong point, crazy.. Available only ...</td>\n",
       "      <td>NaN</td>\n",
       "      <td>NaN</td>\n",
       "      <td>NaN</td>\n",
       "    </tr>\n",
       "    <tr>\n",
       "      <th>1</th>\n",
       "      <td>ham</td>\n",
       "      <td>Ok lar... Joking wif u oni...</td>\n",
       "      <td>NaN</td>\n",
       "      <td>NaN</td>\n",
       "      <td>NaN</td>\n",
       "    </tr>\n",
       "    <tr>\n",
       "      <th>2</th>\n",
       "      <td>spam</td>\n",
       "      <td>Free entry in 2 a wkly comp to win FA Cup fina...</td>\n",
       "      <td>NaN</td>\n",
       "      <td>NaN</td>\n",
       "      <td>NaN</td>\n",
       "    </tr>\n",
       "    <tr>\n",
       "      <th>3</th>\n",
       "      <td>ham</td>\n",
       "      <td>U dun say so early hor... U c already then say...</td>\n",
       "      <td>NaN</td>\n",
       "      <td>NaN</td>\n",
       "      <td>NaN</td>\n",
       "    </tr>\n",
       "    <tr>\n",
       "      <th>4</th>\n",
       "      <td>ham</td>\n",
       "      <td>Nah I don't think he goes to usf, he lives aro...</td>\n",
       "      <td>NaN</td>\n",
       "      <td>NaN</td>\n",
       "      <td>NaN</td>\n",
       "    </tr>\n",
       "    <tr>\n",
       "      <th>...</th>\n",
       "      <td>...</td>\n",
       "      <td>...</td>\n",
       "      <td>...</td>\n",
       "      <td>...</td>\n",
       "      <td>...</td>\n",
       "    </tr>\n",
       "    <tr>\n",
       "      <th>5567</th>\n",
       "      <td>spam</td>\n",
       "      <td>This is the 2nd time we have tried 2 contact u...</td>\n",
       "      <td>NaN</td>\n",
       "      <td>NaN</td>\n",
       "      <td>NaN</td>\n",
       "    </tr>\n",
       "    <tr>\n",
       "      <th>5568</th>\n",
       "      <td>ham</td>\n",
       "      <td>Will Ì_ b going to esplanade fr home?</td>\n",
       "      <td>NaN</td>\n",
       "      <td>NaN</td>\n",
       "      <td>NaN</td>\n",
       "    </tr>\n",
       "    <tr>\n",
       "      <th>5569</th>\n",
       "      <td>ham</td>\n",
       "      <td>Pity, * was in mood for that. So...any other s...</td>\n",
       "      <td>NaN</td>\n",
       "      <td>NaN</td>\n",
       "      <td>NaN</td>\n",
       "    </tr>\n",
       "    <tr>\n",
       "      <th>5570</th>\n",
       "      <td>ham</td>\n",
       "      <td>The guy did some bitching but I acted like i'd...</td>\n",
       "      <td>NaN</td>\n",
       "      <td>NaN</td>\n",
       "      <td>NaN</td>\n",
       "    </tr>\n",
       "    <tr>\n",
       "      <th>5571</th>\n",
       "      <td>ham</td>\n",
       "      <td>Rofl. Its true to its name</td>\n",
       "      <td>NaN</td>\n",
       "      <td>NaN</td>\n",
       "      <td>NaN</td>\n",
       "    </tr>\n",
       "  </tbody>\n",
       "</table>\n",
       "<p>5572 rows × 5 columns</p>\n",
       "</div>"
      ],
      "text/plain": [
       "        v1  ... Unnamed: 4\n",
       "0      ham  ...        NaN\n",
       "1      ham  ...        NaN\n",
       "2     spam  ...        NaN\n",
       "3      ham  ...        NaN\n",
       "4      ham  ...        NaN\n",
       "...    ...  ...        ...\n",
       "5567  spam  ...        NaN\n",
       "5568   ham  ...        NaN\n",
       "5569   ham  ...        NaN\n",
       "5570   ham  ...        NaN\n",
       "5571   ham  ...        NaN\n",
       "\n",
       "[5572 rows x 5 columns]"
      ]
     },
     "execution_count": 61,
     "metadata": {},
     "output_type": "execute_result"
    }
   ],
   "source": [
    "try:\n",
    "    df = pd.read_csv(\"spam.csv\",encoding=\"latin-1\")\n",
    "    print(\"Data loaded successfully!\")\n",
    "except FileNotFoundError:\n",
    "    print(\"Error: 'spam.csv' was not found. Please ensure the file is in same directory\")\n",
    "    exit()\n",
    "df"
   ]
  },
  {
   "cell_type": "code",
   "execution_count": 62,
   "id": "4842b6a1",
   "metadata": {},
   "outputs": [
    {
     "name": "stdout",
     "output_type": "stream",
     "text": [
      "Original DataFrame shape: (5572, 5)\n",
      "Original columns: ['v1', 'v2', 'Unnamed: 2', 'Unnamed: 3', 'Unnamed: 4']\n",
      "\n",
      "--- Cleaned DataFrame ---\n",
      "Cleaned DataFrame shape: (5572, 2)\n",
      "Cleaned columns: ['v1', 'v2']\n",
      "\n",
      "First 5 rows of cleaned data:\n",
      "  label                                            message\n",
      "0   ham  Go until jurong point, crazy.. Available only ...\n",
      "1   ham                      Ok lar... Joking wif u oni...\n",
      "2  spam  Free entry in 2 a wkly comp to win FA Cup fina...\n",
      "3   ham  U dun say so early hor... U c already then say...\n",
      "4   ham  Nah I don't think he goes to usf, he lives aro...\n"
     ]
    }
   ],
   "source": [
    "import pandas as pd\n",
    "import io\n",
    "\n",
    "# Define the file content ID for the uploaded spam.csv\n",
    "# In a real environment, you would use the actual file path.\n",
    "FILE_ID = \"spam.csv\"\n",
    "\n",
    "# In this environment, we use the content ID to read the file directly.\n",
    "try:\n",
    "    # 1. Load the data using the file content ID\n",
    "    with open(FILE_ID, encoding='latin1') as f:\n",
    "        df = pd.read_csv(f)\n",
    "    print(f\"Original DataFrame shape: {df.shape}\")\n",
    "    print(f\"Original columns: {list(df.columns)}\\n\")\n",
    "\n",
    "    # 2. Identify columns that start with 'Unnamed:'\n",
    "    # These are typically generated by trailing commas in the CSV rows.\n",
    "    columns_to_keep = [col for col in df.columns if not col.startswith('Unnamed:')]\n",
    "\n",
    "    # 3. Create the new DataFrame with only the desired columns\n",
    "    df_cleaned = df[columns_to_keep]\n",
    "\n",
    "    # 4. Display the results\n",
    "    print(\"--- Cleaned DataFrame ---\")\n",
    "    print(f\"Cleaned DataFrame shape: {df_cleaned.shape}\")\n",
    "    print(f\"Cleaned columns: {list(df_cleaned.columns)}\")\n",
    "    print(\"\\nFirst 5 rows of cleaned data:\")\n",
    "    # Rename the columns for clarity (v1 is 'label', v2 is 'message')\n",
    "    df_cleaned.columns = ['label', 'message']\n",
    "    print(df_cleaned.head())\n",
    "\n",
    "except Exception as e:\n",
    "    print(f\"An error occurred: {e}\")\n"
   ]
  },
  {
   "cell_type": "markdown",
   "id": "a4d6fe20",
   "metadata": {},
   "source": [
    "Data Preprocessing"
   ]
  },
  {
   "cell_type": "code",
   "execution_count": 63,
   "id": "69e8bc84",
   "metadata": {},
   "outputs": [],
   "source": [
    "# Rename the columns for clarity and consistency\n",
    "df = df.rename(columns={\n",
    "    \"v1\": \"label\",\n",
    "    \"v2\": \"message\"\n",
    "})\n",
    "\n",
    "'''# Check for missing values\n",
    "df_missing = df.isnull().sum()\n",
    "print(\"Missing Values\")\n",
    "print(df_missing)\n",
    "\n",
    "# Check for duplicated rows\n",
    "df_duplicated = df.duplicated().sum()\n",
    "print(\"Duplicated Rows\")\n",
    "print(df_duplicated)\n",
    "\n",
    "# Drop dupliacted rows\n",
    "df = df.drop_duplicates(inplace=True)\n",
    "\n",
    "# Check for duplicated rows agains\n",
    "df_duplicated = df.duplicated().sum()\n",
    "print(\"Duplicated Rows after removing them\")\n",
    "print(df_duplicated)'''\n",
    "\n",
    "# Initialize LabelEncoder to convert categorical text labels to numerical values\n",
    "le = LabelEncoder()\n",
    "df[\"label_encoded\"] = le.fit_transform(df[\"label\"])"
   ]
  },
  {
   "cell_type": "markdown",
   "id": "ec46d189",
   "metadata": {},
   "source": [
    "Feature Engineering"
   ]
  },
  {
   "cell_type": "code",
   "execution_count": 64,
   "id": "ff2427a8",
   "metadata": {},
   "outputs": [],
   "source": [
    "# Define the features matrix (X) and the target variable (Y)\n",
    "X = df[\"message\"]\n",
    "y = df[\"label_encoded\"]"
   ]
  },
  {
   "cell_type": "markdown",
   "id": "667cf2a8",
   "metadata": {},
   "source": [
    "Data Splitting"
   ]
  },
  {
   "cell_type": "code",
   "execution_count": 65,
   "id": "f4535245",
   "metadata": {},
   "outputs": [],
   "source": [
    "X_train,X_test,y_train,y_test = train_test_split(X,y,test_size=0.2,random_state=42,stratify=y)"
   ]
  },
  {
   "cell_type": "markdown",
   "id": "d9c3c93f",
   "metadata": {},
   "source": [
    "Visualization before traning"
   ]
  },
  {
   "cell_type": "code",
   "execution_count": 66,
   "id": "2ec38f20",
   "metadata": {},
   "outputs": [
    {
     "name": "stdout",
     "output_type": "stream",
     "text": [
      "Visualization before training \n"
     ]
    },
    {
     "data": {
      "image/png": "[encoded data removed]",
      "text/plain": [
       "<Figure size 700x500 with 1 Axes>"
      ]
     },
     "metadata": {},
     "output_type": "display_data"
    }
   ],
   "source": [
    "print(\"Visualization before training \")\n",
    "plt.figure(figsize=(7,5))\n",
    "# Use Seaborn to create a count plot for the 'label' column\n",
    "sns.countplot(x=\"label\",data=df)\n",
    "plt.title(\"Distribution of Ham vs Spam Messages\")\n",
    "plt.xlabel(\"Message Type\")\n",
    "plt.ylabel(\"Count\")\n",
    "plt.show()"
   ]
  },
  {
   "cell_type": "markdown",
   "id": "6410f13c",
   "metadata": {},
   "source": [
    "Text Vectorization"
   ]
  },
  {
   "cell_type": "code",
   "execution_count": 67,
   "id": "4d5be109",
   "metadata": {},
   "outputs": [],
   "source": [
    "# Initialize the TF-IDF Vectorizer\n",
    "tfidf_vectorizer = TfidfVectorizer(stop_words=\"english\",max_features=5000)\n",
    "\n",
    "# Fit the vectorizer on the training data and transform it\n",
    "X_train_vec = tfidf_vectorizer.fit_transform(X_train)\n",
    "# Only transform the test data using the vocabulary learned from the training data\n",
    "X_test_vec = tfidf_vectorizer.transform(X_test)"
   ]
  },
  {
   "cell_type": "markdown",
   "id": "7cd12397",
   "metadata": {},
   "source": [
    "Model Training and Comaparison"
   ]
  },
  {
   "cell_type": "code",
   "execution_count": 68,
   "id": "e8675526",
   "metadata": {},
   "outputs": [
    {
     "name": "stdout",
     "output_type": "stream",
     "text": [
      "Model Training and Evaluation\n",
      "Training Multinomial Naive Bayes...\n",
      " Multinomial Naive Bayes Accuracy: 0.9722\n",
      "Training Logistic Regression...\n",
      " Logistic Regression Accuracy: 0.9704\n",
      "Training Support Vector Machine (SVC)...\n",
      " Support Vector Machine (SVC) Accuracy: 0.9785\n",
      "Training Random Forest...\n",
      " Random Forest Accuracy: 0.9758\n",
      "Conclusion: The best model is Support Vector Machine (SVC) with an accuracy of 0.9785\n"
     ]
    }
   ],
   "source": [
    "# Dictionary of models to evaluate\n",
    "models = {\n",
    "    \"Multinomial Naive Bayes\": MultinomialNB(),\n",
    "    \"Logistic Regression\": LogisticRegression(max_iter=1000,solver=\"liblinear\",random_state=42),\n",
    "    \"Support Vector Machine (SVC)\": SVC(random_state=42),\n",
    "    \"Random Forest\": RandomForestClassifier(n_estimators=200,random_state=42)\n",
    "}\n",
    "\n",
    "results = {}\n",
    "best_model = None\n",
    "best_accuracy = 0.0\n",
    "best_model_name = \"\"\n",
    "\n",
    "\n",
    "\n",
    "print(\"Model Training and Evaluation\")\n",
    "\n",
    "# Loop through each model in the dictionary\n",
    "for name, model in models.items():\n",
    "    print(f\"Training {name}...\")\n",
    "    # Train the model using the vectorized training data\n",
    "    model.fit(X_train_vec,y_train)\n",
    "\n",
    "    # Make predictions on the test set\n",
    "    y_pred = model.predict(X_test_vec)\n",
    "\n",
    "    # Calculate the accuarcy of the model\n",
    "    accuracy = accuracy_score(y_test,y_pred)\n",
    "    results[name] = accuracy\n",
    "\n",
    "    # Print the detailed classification report \n",
    "    print(f\" {name} Accuracy: {accuracy:.4f}\")\n",
    "\n",
    "    # Keep track of the best performing model\n",
    "    if accuracy > best_accuracy:\n",
    "        best_accuracy = accuracy\n",
    "        best_model = model\n",
    "        best_model_name = name\n",
    "\n",
    "print(f\"Conclusion: The best model is {best_model_name} with an accuracy of {best_accuracy:.4f}\")"
   ]
  },
  {
   "cell_type": "markdown",
   "id": "a6025bc8",
   "metadata": {},
   "source": [
    "Visualization after training"
   ]
  },
  {
   "cell_type": "code",
   "execution_count": 69,
   "id": "0246c62e",
   "metadata": {},
   "outputs": [
    {
     "data": {
      "image/png": "[encoded data removed]",
      "text/plain": [
       "<Figure size 1000x600 with 1 Axes>"
      ]
     },
     "metadata": {},
     "output_type": "display_data"
    }
   ],
   "source": [
    "# Convert results dictionary to a DataFrame for easy plotting\n",
    "results_df = pd.DataFrame(results.items(),columns=[\"Model\",\"Accuracy\"])\n",
    "results_df = results_df.sort_values(by=\"Accuracy\",ascending=False)\n",
    "\n",
    "plt.figure(figsize=(10,6))\n",
    "# Create a bar plot comapring the accuarcy of all trained models\n",
    "sns.barplot(x=\"Accuracy\",y=\"Model\",data=results_df)\n",
    "plt.title(\"Comparison of Classification Model Accuracy for Spam Detection\")\n",
    "plt.xlim(0.9,1.0)\n",
    "plt.xlabel(\"Accuracy Score\")\n",
    "plt.ylabel(\"Model\")\n",
    "plt.show()"
   ]
  },
  {
   "cell_type": "markdown",
   "id": "f4ee3764",
   "metadata": {},
   "source": [
    "Interactive Input and Prediction"
   ]
  },
  {
   "cell_type": "code",
   "execution_count": 72,
   "id": "a613a07a",
   "metadata": {},
   "outputs": [
    {
     "name": "stdout",
     "output_type": "stream",
     "text": [
      "Interactive Prediction using the best model: Support Vector Machine (SVC)\n",
      "Enter a message to check if it's 'ham' (legitimate) or 'spam'. Type 'exit' to quit\n",
      "-> Prediction: [HAM] - Our Support Vector Machine (SVC) model determined this is a legitmate message.\n",
      "-> Prediction: [HAM] - Our Support Vector Machine (SVC) model determined this is a legitmate message.\n",
      "-> Prediction: [HAM] - Our Support Vector Machine (SVC) model determined this is a legitmate message.\n",
      "-> Prediction: [HAM] - Our Support Vector Machine (SVC) model determined this is a legitmate message.\n",
      "-> Prediction: [HAM] - Our Support Vector Machine (SVC) model determined this is a legitmate message.\n",
      "Exiting prediction tool. Good luck with your studies\n"
     ]
    }
   ],
   "source": [
    "def predict_message(message,model,vectorizer,label_encoder):\n",
    "    message_vec = vectorizer.transform([message])\n",
    "    prediction_encoded = model.predict(message_vec)\n",
    "    prediction_label = label_encoder.inverse_transform(prediction_encoded)[0]\n",
    "    \n",
    "\n",
    "\n",
    "    return prediction_label\n",
    "\n",
    "\n",
    "# Start the interactive loop using the best model found\n",
    "print(f\"Interactive Prediction using the best model: {best_model_name}\")\n",
    "print(\"Enter a message to check if it's 'ham' (legitimate) or 'spam'. Type 'exit' to quit\")\n",
    "\n",
    "while True:\n",
    "    # Get the input from the user\n",
    "    user_input = input(\"Your message:\")\n",
    "\n",
    "    # Check for the exit command\n",
    "    if user_input.lower() == \"exit\":\n",
    "        print(\"Exiting prediction tool. Good luck with your studies\")\n",
    "        break\n",
    "\n",
    "    # Ensure a model was successfuly trained\n",
    "    if best_model is None:\n",
    "        print(\"Error: Model not trained\")\n",
    "        break\n",
    "\n",
    "    # Get the prediction\n",
    "    predicted_label = predict_message(user_input,best_model,tfidf_vectorizer,le)\n",
    "\n",
    "    # Output the result\n",
    "    if predicted_label == \"spam\":\n",
    "        print(f\"-> Prediction: [!!! SPAM !!!] - Our {best_model_name} model flagged this\")\n",
    "    else:\n",
    "        print(f\"-> Prediction: [HAM] - Our {best_model_name} model determined this is a legitmate message.\")"
   ]
  }
 ],
 "metadata": {
  "kernelspec": {
   "display_name": "base",
   "language": "python",
   "name": "python3"
  },
  "language_info": {
   "codemirror_mode": {
    "name": "ipython",
    "version": 3
   },
   "file_extension": ".py",
   "mimetype": "text/x-python",
   "name": "python",
   "nbconvert_exporter": "python",
   "pygments_lexer": "ipython3",
   "version": "3.13.5"
  }
 },
 "nbformat": 4,
 "nbformat_minor": 5
}
